{
 "cells": [
  {
   "cell_type": "markdown",
   "metadata": {},
   "source": [
    "# Forskjeller\n",
    "\n",
    "Her ser vi på utvalgte ord og tegnsetting som en forskjell mellom skjønnlitteratur og sakprosa"
   ]
  },
  {
   "cell_type": "code",
   "execution_count": 6,
   "metadata": {},
   "outputs": [],
   "source": [
    "import dhlab.nbtext as nb\n",
    "import dhlab.module_update as mu\n",
    "import pandas as pd"
   ]
  },
  {
   "cell_type": "code",
   "execution_count": 3,
   "metadata": {},
   "outputs": [
    {
     "data": {
      "text/html": [
       "<style>@import url(\n",
       "http://fonts.googleapis.com/css?family=Lato|Philosopher|Montserrat|Source+Code+Pro|Merriweather|Istok+Web|Philosopher|Assistant:200,400,700);\n",
       "\n",
       "/*\n",
       "#notebook-container {\n",
       "\t-webkit-box-shadow: none;\n",
       "\tbox-shadow: none;\n",
       "}\n",
       "*/\n",
       "\n",
       "h1, h2, h3, h4, h5, h6 {\n",
       "\tfont-family: 'Montserrat', sans-serif;\n",
       "\tline-height: 2em;\n",
       "    color: #004f99;\n",
       "    font-weight: 600;\n",
       "}\n",
       "\n",
       "h1 { font-size: 4.5em; }\n",
       "h2 { font-size: 4em; }\n",
       "h3 { font-size: 3.5em; }\n",
       "h4 { font-size: 3em; }\n",
       "h5 { font-size: 2.5em; color:DarkSlateGray; }\n",
       "h6 { font-size: 2em; }\n",
       "\n",
       "p {\n",
       "\tfont-family: 'Merriweather'; \n",
       "\tcolor: DarkSlateGray;\n",
       "}\n",
       "\n",
       "div.input_area {\n",
       "\tborder:none !important;\n",
       "\tborder-left:1px solid #ff851b !important\n",
       "}\n",
       "\n",
       "span.cm-keyword {\n",
       "\tcolor:#339966 !important;\n",
       "}\n",
       "span.nn {  /*span.cm-variable, span.cm-property*/\n",
       "\tcolor: #3399ff !important;\n",
       "}\n",
       "div.CodeMirror {\n",
       "\tfont-family: 'Inconsolata', monospace;\n",
       "\tfont-size: 1.1em;\n",
       "\t\n",
       "}\n",
       "</style>"
      ],
      "text/plain": [
       "<IPython.core.display.HTML object>"
      ]
     },
     "execution_count": 3,
     "metadata": {},
     "output_type": "execute_result"
    }
   ],
   "source": [
    "mu.css()"
   ]
  },
  {
   "cell_type": "markdown",
   "metadata": {},
   "source": [
    "## Testkorpus"
   ]
  },
  {
   "cell_type": "markdown",
   "metadata": {},
   "source": [
    "Sampler noen verk fra tiårene 1970 til 2000. 300 fra dewey 839 og så litt fra andre dewey kategorier."
   ]
  },
  {
   "cell_type": "code",
   "execution_count": 4,
   "metadata": {},
   "outputs": [],
   "source": [
    "romaner = nb.book_corpus(ddk = \"839%\", limit = 300)"
   ]
  },
  {
   "cell_type": "code",
   "execution_count": 7,
   "metadata": {},
   "outputs": [],
   "source": [
    "sakprosa = pd.concat([nb.book_corpus(ddk = str(x) + '%', limit = 30) for x in range(0,9,1) if x != 8 ])"
   ]
  },
  {
   "cell_type": "markdown",
   "metadata": {},
   "source": [
    "Vi teller opp ordene i begge korpus"
   ]
  },
  {
   "cell_type": "code",
   "execution_count": 10,
   "metadata": {},
   "outputs": [],
   "source": [
    "sagprosa_agg = nb.aggregate_urns(list(sakprosa.urn))"
   ]
  },
  {
   "cell_type": "code",
   "execution_count": 12,
   "metadata": {},
   "outputs": [],
   "source": [
    "romaner_agg = nb.aggregate_urns(list(romaner.urn))"
   ]
  },
  {
   "cell_type": "markdown",
   "metadata": {},
   "source": [
    "og legger dem i en dataramme"
   ]
  },
  {
   "cell_type": "code",
   "execution_count": 18,
   "metadata": {},
   "outputs": [],
   "source": [
    "combo = pd.concat([nb.frame(romaner_agg, 'skjønnlitt'), nb.frame(sagprosa_agg, 'sakprosa')], axis = 1, sort=False).dropna()"
   ]
  },
  {
   "cell_type": "markdown",
   "metadata": {},
   "source": [
    "datarammen kan vi så sette opp for å sjekke forholdet mellom bruk av tegn og ord"
   ]
  },
  {
   "cell_type": "code",
   "execution_count": 19,
   "metadata": {},
   "outputs": [
    {
     "data": {
      "text/html": [
       "<div>\n",
       "<style scoped>\n",
       "    .dataframe tbody tr th:only-of-type {\n",
       "        vertical-align: middle;\n",
       "    }\n",
       "\n",
       "    .dataframe tbody tr th {\n",
       "        vertical-align: top;\n",
       "    }\n",
       "\n",
       "    .dataframe thead th {\n",
       "        text-align: right;\n",
       "    }\n",
       "</style>\n",
       "<table border=\"1\" class=\"dataframe\">\n",
       "  <thead>\n",
       "    <tr style=\"text-align: right;\">\n",
       "      <th></th>\n",
       "      <th>skjønnlitt</th>\n",
       "      <th>sakprosa</th>\n",
       "    </tr>\n",
       "  </thead>\n",
       "  <tbody>\n",
       "    <tr>\n",
       "      <th>!</th>\n",
       "      <td>48969.0</td>\n",
       "      <td>14664.0</td>\n",
       "    </tr>\n",
       "    <tr>\n",
       "      <th>\"</th>\n",
       "      <td>11512.0</td>\n",
       "      <td>30963.0</td>\n",
       "    </tr>\n",
       "    <tr>\n",
       "      <th>#</th>\n",
       "      <td>269.0</td>\n",
       "      <td>639.0</td>\n",
       "    </tr>\n",
       "    <tr>\n",
       "      <th>$</th>\n",
       "      <td>184.0</td>\n",
       "      <td>494.0</td>\n",
       "    </tr>\n",
       "    <tr>\n",
       "      <th>%</th>\n",
       "      <td>556.0</td>\n",
       "      <td>4309.0</td>\n",
       "    </tr>\n",
       "    <tr>\n",
       "      <th>...</th>\n",
       "      <td>...</td>\n",
       "      <td>...</td>\n",
       "    </tr>\n",
       "    <tr>\n",
       "      <th>►</th>\n",
       "      <td>11.0</td>\n",
       "      <td>298.0</td>\n",
       "    </tr>\n",
       "    <tr>\n",
       "      <th>▼</th>\n",
       "      <td>3.0</td>\n",
       "      <td>136.0</td>\n",
       "    </tr>\n",
       "    <tr>\n",
       "      <th>★</th>\n",
       "      <td>20.0</td>\n",
       "      <td>18.0</td>\n",
       "    </tr>\n",
       "    <tr>\n",
       "      <th>♦</th>\n",
       "      <td>43.0</td>\n",
       "      <td>166.0</td>\n",
       "    </tr>\n",
       "    <tr>\n",
       "      <th>✓</th>\n",
       "      <td>7.0</td>\n",
       "      <td>28.0</td>\n",
       "    </tr>\n",
       "  </tbody>\n",
       "</table>\n",
       "<p>154673 rows × 2 columns</p>\n",
       "</div>"
      ],
      "text/plain": [
       "    skjønnlitt  sakprosa\n",
       "!      48969.0   14664.0\n",
       "\"      11512.0   30963.0\n",
       "#        269.0     639.0\n",
       "$        184.0     494.0\n",
       "%        556.0    4309.0\n",
       "..         ...       ...\n",
       "►         11.0     298.0\n",
       "▼          3.0     136.0\n",
       "★         20.0      18.0\n",
       "♦         43.0     166.0\n",
       "✓          7.0      28.0\n",
       "\n",
       "[154673 rows x 2 columns]"
      ]
     },
     "execution_count": 19,
     "metadata": {},
     "output_type": "execute_result"
    }
   ],
   "source": [
    "combo"
   ]
  },
  {
   "cell_type": "code",
   "execution_count": 20,
   "metadata": {},
   "outputs": [],
   "source": [
    "combo['ratio'] = combo['skjønnlitt']/combo['sakprosa']"
   ]
  },
  {
   "cell_type": "markdown",
   "metadata": {},
   "source": [
    "Lager grupper av tegn og ord"
   ]
  },
  {
   "cell_type": "code",
   "execution_count": 22,
   "metadata": {},
   "outputs": [],
   "source": [
    "punktuering = \"\"\". , ! \" ' ? : ; -\"\"\".split()"
   ]
  },
  {
   "cell_type": "code",
   "execution_count": 23,
   "metadata": {},
   "outputs": [],
   "source": [
    "pronomen = \"vi oss de dem han ham hans hun henne hennes du deg jeg meg\".split()"
   ]
  },
  {
   "cell_type": "code",
   "execution_count": 28,
   "metadata": {},
   "outputs": [],
   "source": [
    "interjeksjoner = \"ja nei jo vel aha åh javel\".split()"
   ]
  },
  {
   "cell_type": "markdown",
   "metadata": {},
   "source": [
    "Så ser vi på fordelingen i kolonnen _ratio_\n",
    "\n",
    "Først pronomen"
   ]
  },
  {
   "cell_type": "code",
   "execution_count": 24,
   "metadata": {},
   "outputs": [
    {
     "data": {
      "text/html": [
       "<div>\n",
       "<style scoped>\n",
       "    .dataframe tbody tr th:only-of-type {\n",
       "        vertical-align: middle;\n",
       "    }\n",
       "\n",
       "    .dataframe tbody tr th {\n",
       "        vertical-align: top;\n",
       "    }\n",
       "\n",
       "    .dataframe thead th {\n",
       "        text-align: right;\n",
       "    }\n",
       "</style>\n",
       "<table border=\"1\" class=\"dataframe\">\n",
       "  <thead>\n",
       "    <tr style=\"text-align: right;\">\n",
       "      <th></th>\n",
       "      <th>skjønnlitt</th>\n",
       "      <th>sakprosa</th>\n",
       "      <th>ratio</th>\n",
       "    </tr>\n",
       "  </thead>\n",
       "  <tbody>\n",
       "    <tr>\n",
       "      <th>vi</th>\n",
       "      <td>37689.0</td>\n",
       "      <td>36522.0</td>\n",
       "      <td>1.031953</td>\n",
       "    </tr>\n",
       "    <tr>\n",
       "      <th>oss</th>\n",
       "      <td>14169.0</td>\n",
       "      <td>10483.0</td>\n",
       "      <td>1.351617</td>\n",
       "    </tr>\n",
       "    <tr>\n",
       "      <th>de</th>\n",
       "      <td>90722.0</td>\n",
       "      <td>71404.0</td>\n",
       "      <td>1.270545</td>\n",
       "    </tr>\n",
       "    <tr>\n",
       "      <th>dem</th>\n",
       "      <td>25622.0</td>\n",
       "      <td>13159.0</td>\n",
       "      <td>1.947108</td>\n",
       "    </tr>\n",
       "    <tr>\n",
       "      <th>han</th>\n",
       "      <td>163166.0</td>\n",
       "      <td>37771.0</td>\n",
       "      <td>4.319875</td>\n",
       "    </tr>\n",
       "    <tr>\n",
       "      <th>ham</th>\n",
       "      <td>42942.0</td>\n",
       "      <td>8865.0</td>\n",
       "      <td>4.843993</td>\n",
       "    </tr>\n",
       "    <tr>\n",
       "      <th>hans</th>\n",
       "      <td>24410.0</td>\n",
       "      <td>8063.0</td>\n",
       "      <td>3.027409</td>\n",
       "    </tr>\n",
       "    <tr>\n",
       "      <th>hun</th>\n",
       "      <td>100811.0</td>\n",
       "      <td>9718.0</td>\n",
       "      <td>10.373637</td>\n",
       "    </tr>\n",
       "    <tr>\n",
       "      <th>henne</th>\n",
       "      <td>37207.0</td>\n",
       "      <td>3210.0</td>\n",
       "      <td>11.590966</td>\n",
       "    </tr>\n",
       "    <tr>\n",
       "      <th>hennes</th>\n",
       "      <td>15899.0</td>\n",
       "      <td>1546.0</td>\n",
       "      <td>10.283959</td>\n",
       "    </tr>\n",
       "    <tr>\n",
       "      <th>du</th>\n",
       "      <td>62974.0</td>\n",
       "      <td>27978.0</td>\n",
       "      <td>2.250840</td>\n",
       "    </tr>\n",
       "    <tr>\n",
       "      <th>deg</th>\n",
       "      <td>21763.0</td>\n",
       "      <td>8942.0</td>\n",
       "      <td>2.433796</td>\n",
       "    </tr>\n",
       "    <tr>\n",
       "      <th>jeg</th>\n",
       "      <td>119143.0</td>\n",
       "      <td>28766.0</td>\n",
       "      <td>4.141799</td>\n",
       "    </tr>\n",
       "    <tr>\n",
       "      <th>meg</th>\n",
       "      <td>49147.0</td>\n",
       "      <td>10926.0</td>\n",
       "      <td>4.498170</td>\n",
       "    </tr>\n",
       "  </tbody>\n",
       "</table>\n",
       "</div>"
      ],
      "text/plain": [
       "        skjønnlitt  sakprosa      ratio\n",
       "vi         37689.0   36522.0   1.031953\n",
       "oss        14169.0   10483.0   1.351617\n",
       "de         90722.0   71404.0   1.270545\n",
       "dem        25622.0   13159.0   1.947108\n",
       "han       163166.0   37771.0   4.319875\n",
       "ham        42942.0    8865.0   4.843993\n",
       "hans       24410.0    8063.0   3.027409\n",
       "hun       100811.0    9718.0  10.373637\n",
       "henne      37207.0    3210.0  11.590966\n",
       "hennes     15899.0    1546.0  10.283959\n",
       "du         62974.0   27978.0   2.250840\n",
       "deg        21763.0    8942.0   2.433796\n",
       "jeg       119143.0   28766.0   4.141799\n",
       "meg        49147.0   10926.0   4.498170"
      ]
     },
     "execution_count": 24,
     "metadata": {},
     "output_type": "execute_result"
    }
   ],
   "source": [
    "combo.loc[pronomen]"
   ]
  },
  {
   "cell_type": "markdown",
   "metadata": {},
   "source": [
    "Så punktuering"
   ]
  },
  {
   "cell_type": "code",
   "execution_count": 25,
   "metadata": {},
   "outputs": [
    {
     "data": {
      "text/html": [
       "<div>\n",
       "<style scoped>\n",
       "    .dataframe tbody tr th:only-of-type {\n",
       "        vertical-align: middle;\n",
       "    }\n",
       "\n",
       "    .dataframe tbody tr th {\n",
       "        vertical-align: top;\n",
       "    }\n",
       "\n",
       "    .dataframe thead th {\n",
       "        text-align: right;\n",
       "    }\n",
       "</style>\n",
       "<table border=\"1\" class=\"dataframe\">\n",
       "  <thead>\n",
       "    <tr style=\"text-align: right;\">\n",
       "      <th></th>\n",
       "      <th>skjønnlitt</th>\n",
       "      <th>sakprosa</th>\n",
       "      <th>ratio</th>\n",
       "    </tr>\n",
       "  </thead>\n",
       "  <tbody>\n",
       "    <tr>\n",
       "      <th>.</th>\n",
       "      <td>836707.0</td>\n",
       "      <td>638971.0</td>\n",
       "      <td>1.309460</td>\n",
       "    </tr>\n",
       "    <tr>\n",
       "      <th>,</th>\n",
       "      <td>694308.0</td>\n",
       "      <td>525781.0</td>\n",
       "      <td>1.320527</td>\n",
       "    </tr>\n",
       "    <tr>\n",
       "      <th>!</th>\n",
       "      <td>48969.0</td>\n",
       "      <td>14664.0</td>\n",
       "      <td>3.339403</td>\n",
       "    </tr>\n",
       "    <tr>\n",
       "      <th>\"</th>\n",
       "      <td>11512.0</td>\n",
       "      <td>30963.0</td>\n",
       "      <td>0.371799</td>\n",
       "    </tr>\n",
       "    <tr>\n",
       "      <th>'</th>\n",
       "      <td>20616.0</td>\n",
       "      <td>30937.0</td>\n",
       "      <td>0.666387</td>\n",
       "    </tr>\n",
       "    <tr>\n",
       "      <th>?</th>\n",
       "      <td>99133.0</td>\n",
       "      <td>120423.0</td>\n",
       "      <td>0.823207</td>\n",
       "    </tr>\n",
       "    <tr>\n",
       "      <th>:</th>\n",
       "      <td>55472.0</td>\n",
       "      <td>77847.0</td>\n",
       "      <td>0.712577</td>\n",
       "    </tr>\n",
       "    <tr>\n",
       "      <th>;</th>\n",
       "      <td>21678.0</td>\n",
       "      <td>24059.0</td>\n",
       "      <td>0.901035</td>\n",
       "    </tr>\n",
       "    <tr>\n",
       "      <th>-</th>\n",
       "      <td>119928.0</td>\n",
       "      <td>145664.0</td>\n",
       "      <td>0.823319</td>\n",
       "    </tr>\n",
       "  </tbody>\n",
       "</table>\n",
       "</div>"
      ],
      "text/plain": [
       "   skjønnlitt  sakprosa     ratio\n",
       ".    836707.0  638971.0  1.309460\n",
       ",    694308.0  525781.0  1.320527\n",
       "!     48969.0   14664.0  3.339403\n",
       "\"     11512.0   30963.0  0.371799\n",
       "'     20616.0   30937.0  0.666387\n",
       "?     99133.0  120423.0  0.823207\n",
       ":     55472.0   77847.0  0.712577\n",
       ";     21678.0   24059.0  0.901035\n",
       "-    119928.0  145664.0  0.823319"
      ]
     },
     "execution_count": 25,
     "metadata": {},
     "output_type": "execute_result"
    }
   ],
   "source": [
    "combo.loc[punktuering]"
   ]
  },
  {
   "cell_type": "markdown",
   "metadata": {},
   "source": [
    "Og til slutt interjeksjoner"
   ]
  },
  {
   "cell_type": "code",
   "execution_count": 29,
   "metadata": {},
   "outputs": [
    {
     "data": {
      "text/html": [
       "<div>\n",
       "<style scoped>\n",
       "    .dataframe tbody tr th:only-of-type {\n",
       "        vertical-align: middle;\n",
       "    }\n",
       "\n",
       "    .dataframe tbody tr th {\n",
       "        vertical-align: top;\n",
       "    }\n",
       "\n",
       "    .dataframe thead th {\n",
       "        text-align: right;\n",
       "    }\n",
       "</style>\n",
       "<table border=\"1\" class=\"dataframe\">\n",
       "  <thead>\n",
       "    <tr style=\"text-align: right;\">\n",
       "      <th></th>\n",
       "      <th>skjønnlitt</th>\n",
       "      <th>sakprosa</th>\n",
       "      <th>ratio</th>\n",
       "    </tr>\n",
       "  </thead>\n",
       "  <tbody>\n",
       "    <tr>\n",
       "      <th>ja</th>\n",
       "      <td>5286.0</td>\n",
       "      <td>1401.0</td>\n",
       "      <td>3.773019</td>\n",
       "    </tr>\n",
       "    <tr>\n",
       "      <th>nei</th>\n",
       "      <td>3052.0</td>\n",
       "      <td>643.0</td>\n",
       "      <td>4.746501</td>\n",
       "    </tr>\n",
       "    <tr>\n",
       "      <th>jo</th>\n",
       "      <td>14389.0</td>\n",
       "      <td>3217.0</td>\n",
       "      <td>4.472801</td>\n",
       "    </tr>\n",
       "    <tr>\n",
       "      <th>vel</th>\n",
       "      <td>12423.0</td>\n",
       "      <td>4052.0</td>\n",
       "      <td>3.065893</td>\n",
       "    </tr>\n",
       "    <tr>\n",
       "      <th>aha</th>\n",
       "      <td>8.0</td>\n",
       "      <td>3.0</td>\n",
       "      <td>2.666667</td>\n",
       "    </tr>\n",
       "    <tr>\n",
       "      <th>åh</th>\n",
       "      <td>77.0</td>\n",
       "      <td>2.0</td>\n",
       "      <td>38.500000</td>\n",
       "    </tr>\n",
       "    <tr>\n",
       "      <th>javel</th>\n",
       "      <td>56.0</td>\n",
       "      <td>6.0</td>\n",
       "      <td>9.333333</td>\n",
       "    </tr>\n",
       "  </tbody>\n",
       "</table>\n",
       "</div>"
      ],
      "text/plain": [
       "       skjønnlitt  sakprosa      ratio\n",
       "ja         5286.0    1401.0   3.773019\n",
       "nei        3052.0     643.0   4.746501\n",
       "jo        14389.0    3217.0   4.472801\n",
       "vel       12423.0    4052.0   3.065893\n",
       "aha           8.0       3.0   2.666667\n",
       "åh           77.0       2.0  38.500000\n",
       "javel        56.0       6.0   9.333333"
      ]
     },
     "execution_count": 29,
     "metadata": {},
     "output_type": "execute_result"
    }
   ],
   "source": [
    "combo.loc[interjeksjoner]"
   ]
  }
 ],
 "metadata": {
  "kernelspec": {
   "display_name": "Python 3",
   "language": "python",
   "name": "python3"
  },
  "language_info": {
   "codemirror_mode": {
    "name": "ipython",
    "version": 3
   },
   "file_extension": ".py",
   "mimetype": "text/x-python",
   "name": "python",
   "nbconvert_exporter": "python",
   "pygments_lexer": "ipython3",
   "version": "3.7.3"
  }
 },
 "nbformat": 4,
 "nbformat_minor": 2
}
